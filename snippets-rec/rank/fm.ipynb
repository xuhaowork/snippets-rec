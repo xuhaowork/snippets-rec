{
 "cells": [
  {
   "cell_type": "markdown",
   "source": [
    "## FM\n",
    "\n",
    "参考:\n",
    "[特征交叉](https://zhuanlan.zhihu.com/p/499809627)\n",
    "\n",
    "https://zhuanlan.zhihu.com/p/165610397?ivk_sa=1024320u\n",
    "https://github.com/rixwew/pytorch-fm/tree/master/torchfm/model\n",
    "https://github.com/shenweichen/DeepCTR-Torch"
   ],
   "metadata": {
    "collapsed": false,
    "pycharm": {
     "name": "#%% md\n"
    }
   }
  },
  {
   "cell_type": "code",
   "execution_count": 15,
   "outputs": [],
   "source": [
    "import numpy as np\n",
    "import pandas as pd\n",
    "import torch\n",
    "import torch.utils.data as Data"
   ],
   "metadata": {
    "collapsed": false,
    "pycharm": {
     "name": "#%%\n"
    }
   }
  },
  {
   "cell_type": "code",
   "execution_count": 8,
   "outputs": [
    {
     "data": {
      "text/plain": "     user_id  movie_id  rating  timestamp  \\\n0       3299       235       4  968035345   \n1       3630      3256       3  966536874   \n2        517       105       4  976203603   \n3        785      2115       3  975430389   \n4       5848       909       5  957782527   \n..       ...       ...     ...        ...   \n195     1427      3596       3  974840560   \n196     3868      1626       3  965855033   \n197      249      2369       3  976730191   \n198     5720       349       4  958503395   \n199      877      1485       3  975270899   \n\n                                           title                     genres  \\\n0                                 Ed Wood (1994)               Comedy|Drama   \n1                           Patriot Games (1992)            Action|Thriller   \n2          Bridges of Madison County, The (1995)              Drama|Romance   \n3    Indiana Jones and the Temple of Doom (1984)           Action|Adventure   \n4                          Apartment, The (1960)               Comedy|Drama   \n..                                           ...                        ...   \n195                               Screwed (2000)                     Comedy   \n196                       Fire Down Below (1997)      Action|Drama|Thriller   \n197             Desperately Seeking Susan (1985)             Comedy|Romance   \n198              Clear and Present Danger (1994)  Action|Adventure|Thriller   \n199                             Liar Liar (1997)                     Comedy   \n\n    gender  age  occupation    zip  applaud  \n0        F   25           4  19119        1  \n1        M   18           4  77005        0  \n2        F   25          14  55408        1  \n3        M   18          19  29307        0  \n4        M   50          20  20009        1  \n..     ...  ...         ...    ...      ...  \n195      M   25          12  21401        0  \n196      M   18          12  73112        0  \n197      F   18          14  48126        0  \n198      M   25           0  60610        1  \n199      M   25           0  90631        0  \n\n[200 rows x 11 columns]",
      "text/html": "<div>\n<style scoped>\n    .dataframe tbody tr th:only-of-type {\n        vertical-align: middle;\n    }\n\n    .dataframe tbody tr th {\n        vertical-align: top;\n    }\n\n    .dataframe thead th {\n        text-align: right;\n    }\n</style>\n<table border=\"1\" class=\"dataframe\">\n  <thead>\n    <tr style=\"text-align: right;\">\n      <th></th>\n      <th>user_id</th>\n      <th>movie_id</th>\n      <th>rating</th>\n      <th>timestamp</th>\n      <th>title</th>\n      <th>genres</th>\n      <th>gender</th>\n      <th>age</th>\n      <th>occupation</th>\n      <th>zip</th>\n      <th>applaud</th>\n    </tr>\n  </thead>\n  <tbody>\n    <tr>\n      <th>0</th>\n      <td>3299</td>\n      <td>235</td>\n      <td>4</td>\n      <td>968035345</td>\n      <td>Ed Wood (1994)</td>\n      <td>Comedy|Drama</td>\n      <td>F</td>\n      <td>25</td>\n      <td>4</td>\n      <td>19119</td>\n      <td>1</td>\n    </tr>\n    <tr>\n      <th>1</th>\n      <td>3630</td>\n      <td>3256</td>\n      <td>3</td>\n      <td>966536874</td>\n      <td>Patriot Games (1992)</td>\n      <td>Action|Thriller</td>\n      <td>M</td>\n      <td>18</td>\n      <td>4</td>\n      <td>77005</td>\n      <td>0</td>\n    </tr>\n    <tr>\n      <th>2</th>\n      <td>517</td>\n      <td>105</td>\n      <td>4</td>\n      <td>976203603</td>\n      <td>Bridges of Madison County, The (1995)</td>\n      <td>Drama|Romance</td>\n      <td>F</td>\n      <td>25</td>\n      <td>14</td>\n      <td>55408</td>\n      <td>1</td>\n    </tr>\n    <tr>\n      <th>3</th>\n      <td>785</td>\n      <td>2115</td>\n      <td>3</td>\n      <td>975430389</td>\n      <td>Indiana Jones and the Temple of Doom (1984)</td>\n      <td>Action|Adventure</td>\n      <td>M</td>\n      <td>18</td>\n      <td>19</td>\n      <td>29307</td>\n      <td>0</td>\n    </tr>\n    <tr>\n      <th>4</th>\n      <td>5848</td>\n      <td>909</td>\n      <td>5</td>\n      <td>957782527</td>\n      <td>Apartment, The (1960)</td>\n      <td>Comedy|Drama</td>\n      <td>M</td>\n      <td>50</td>\n      <td>20</td>\n      <td>20009</td>\n      <td>1</td>\n    </tr>\n    <tr>\n      <th>...</th>\n      <td>...</td>\n      <td>...</td>\n      <td>...</td>\n      <td>...</td>\n      <td>...</td>\n      <td>...</td>\n      <td>...</td>\n      <td>...</td>\n      <td>...</td>\n      <td>...</td>\n      <td>...</td>\n    </tr>\n    <tr>\n      <th>195</th>\n      <td>1427</td>\n      <td>3596</td>\n      <td>3</td>\n      <td>974840560</td>\n      <td>Screwed (2000)</td>\n      <td>Comedy</td>\n      <td>M</td>\n      <td>25</td>\n      <td>12</td>\n      <td>21401</td>\n      <td>0</td>\n    </tr>\n    <tr>\n      <th>196</th>\n      <td>3868</td>\n      <td>1626</td>\n      <td>3</td>\n      <td>965855033</td>\n      <td>Fire Down Below (1997)</td>\n      <td>Action|Drama|Thriller</td>\n      <td>M</td>\n      <td>18</td>\n      <td>12</td>\n      <td>73112</td>\n      <td>0</td>\n    </tr>\n    <tr>\n      <th>197</th>\n      <td>249</td>\n      <td>2369</td>\n      <td>3</td>\n      <td>976730191</td>\n      <td>Desperately Seeking Susan (1985)</td>\n      <td>Comedy|Romance</td>\n      <td>F</td>\n      <td>18</td>\n      <td>14</td>\n      <td>48126</td>\n      <td>0</td>\n    </tr>\n    <tr>\n      <th>198</th>\n      <td>5720</td>\n      <td>349</td>\n      <td>4</td>\n      <td>958503395</td>\n      <td>Clear and Present Danger (1994)</td>\n      <td>Action|Adventure|Thriller</td>\n      <td>M</td>\n      <td>25</td>\n      <td>0</td>\n      <td>60610</td>\n      <td>1</td>\n    </tr>\n    <tr>\n      <th>199</th>\n      <td>877</td>\n      <td>1485</td>\n      <td>3</td>\n      <td>975270899</td>\n      <td>Liar Liar (1997)</td>\n      <td>Comedy</td>\n      <td>M</td>\n      <td>25</td>\n      <td>0</td>\n      <td>90631</td>\n      <td>0</td>\n    </tr>\n  </tbody>\n</table>\n<p>200 rows × 11 columns</p>\n</div>"
     },
     "execution_count": 8,
     "metadata": {},
     "output_type": "execute_result"
    }
   ],
   "source": [
    "data = pd.read_csv('../../samples/movielens_sample.txt')\n",
    "# 将评分离散化为二维: 好评 vs 差评\n",
    "# noinspection PyShadowingNames\n",
    "data['applaud'] = data['rating'].apply(lambda x: 0 if x <= 3 else 1)\n",
    "data"
   ],
   "metadata": {
    "collapsed": false,
    "pycharm": {
     "name": "#%%\n"
    }
   }
  },
  {
   "cell_type": "code",
   "execution_count": 13,
   "outputs": [
    {
     "data": {
      "text/plain": "array([6040], dtype=object)"
     },
     "execution_count": 13,
     "metadata": {},
     "output_type": "execute_result"
    }
   ],
   "source": [
    "items = data.to_numpy()[:, :1]\n",
    "np.max(items, axis=0)"
   ],
   "metadata": {
    "collapsed": false,
    "pycharm": {
     "name": "#%%\n"
    }
   }
  },
  {
   "cell_type": "code",
   "execution_count": 44,
   "outputs": [
    {
     "name": "stdout",
     "output_type": "stream",
     "text": [
      "user_item_n_fields: [6041 3949]\n"
     ]
    }
   ],
   "source": [
    "user_and_item_ids = data[['user_id', 'movie_id']].to_numpy(dtype=np.long)\n",
    "x_train_tensor = torch.from_numpy(data[['user_id', 'movie_id']].to_numpy(dtype=np.long))\n",
    "y_train_tensor = torch.from_numpy(data['applaud'].to_numpy(dtype=np.float32)).float()\n",
    "# 将训练数据的特征和标签组合\n",
    "dataset = Data.TensorDataset(x_train_tensor, y_train_tensor)\n",
    "\n",
    "user_item_n_fields = np.max(user_and_item_ids, axis=0) + 1\n",
    "print(f'user_item_n_fields: {user_item_n_fields}')\n",
    "\n",
    "# 把 dataset 放入 DataLoader\n",
    "data_iter = Data.DataLoader(\n",
    "    dataset=dataset,  # torch TensorDataset format\n",
    "    batch_size=30,  # mini batch size\n",
    "    shuffle=True,  # 要不要打乱数据 (打乱比较好)\n",
    "    num_workers=2,  # 多线程来读数据, 这里数据直接内存生成\n",
    ")"
   ],
   "metadata": {
    "collapsed": false,
    "pycharm": {
     "name": "#%%\n"
    }
   }
  },
  {
   "cell_type": "code",
   "execution_count": 14,
   "outputs": [],
   "source": [
    "class FeaturesEmbedding(torch.nn.Module):\n",
    "\n",
    "    def __init__(self, field_dims, embed_dim):\n",
    "        \"\"\"\n",
    "        构造一个embedding层, 同时embedding user和item\n",
    "        :param field_dims: (user size, item size)\n",
    "        :param embed_dim: embedding dim size\n",
    "        \"\"\"\n",
    "        super().__init__()\n",
    "        self.embedding = torch.nn.Embedding(sum(field_dims), embed_dim)\n",
    "        self.offsets = np.array((0, *np.cumsum(field_dims)[:-1]), dtype=np.long)\n",
    "        torch.nn.init.xavier_uniform_(self.embedding.weight.data)\n",
    "\n",
    "    # noinspection PyShadowingNames\n",
    "    def forward(self, x):\n",
    "        \"\"\"\n",
    "        :param x: Long tensor of size ``(batch_size, num_fields)``\n",
    "        \"\"\"\n",
    "        x = x + x.new_tensor(self.offsets).unsqueeze(0)\n",
    "        return self.embedding(x)"
   ],
   "metadata": {
    "collapsed": false,
    "pycharm": {
     "name": "#%%\n"
    }
   }
  },
  {
   "cell_type": "markdown",
   "source": [],
   "metadata": {
    "collapsed": false
   }
  },
  {
   "cell_type": "code",
   "execution_count": 45,
   "outputs": [
    {
     "data": {
      "text/plain": "tensor([[ 366, 1077],\n        [2841,  680],\n        [1321, 2240],\n        [ 753,  434],\n        [3618, 3374],\n        [ 877, 1485],\n        [2271, 2671],\n        [4966, 2100],\n        [3759, 2151],\n        [5039, 1792],\n        [4658, 1009],\n        [5365, 1892],\n        [ 615,  296],\n        [5108,  367],\n        [3808,   61],\n        [5893, 2144],\n        [5371, 3194],\n        [3568, 1230],\n        [3558, 1580],\n        [1106, 3624],\n        [1836, 2736],\n        [1685, 2664],\n        [1579, 2420],\n        [5746, 1242],\n        [2230, 2873],\n        [1601, 1396],\n        [  80, 2059],\n        [4802, 1208],\n        [6040, 3224],\n        [5056, 2700]], dtype=torch.int32)"
     },
     "execution_count": 45,
     "metadata": {},
     "output_type": "execute_result"
    }
   ],
   "source": [
    "embedding = FeaturesEmbedding(user_item_n_fields, 10)\n",
    "\n",
    "x = [each for i, each in enumerate(data_iter) if i == 0 ][0][0]\n",
    "x"
   ],
   "metadata": {
    "collapsed": false,
    "pycharm": {
     "name": "#%%\n"
    }
   }
  },
  {
   "cell_type": "code",
   "execution_count": 46,
   "outputs": [
    {
     "name": "stdout",
     "output_type": "stream",
     "text": [
      "torch.Size([30, 2, 10])\n"
     ]
    },
    {
     "data": {
      "text/plain": "tensor([[[-1.0238e-03, -7.9253e-03, -2.0530e-02, -1.1655e-02,  7.4949e-03,\n          -5.1574e-03,  1.5906e-02, -1.9512e-02, -1.9675e-02, -1.0940e-02],\n         [ 1.9630e-02, -1.0728e-02,  1.4925e-02,  9.8429e-03, -1.8240e-02,\n          -1.2869e-03, -1.9622e-02,  1.5011e-02,  1.5504e-02,  4.8443e-03]],\n\n        [[-1.5660e-02,  9.2649e-03,  6.6648e-03, -1.1224e-04,  1.8061e-02,\n           8.0601e-03,  1.0101e-02,  1.5616e-02,  2.7211e-03,  1.9118e-02],\n         [ 1.9375e-03, -2.2568e-02, -1.2676e-02,  1.7642e-02,  7.7042e-04,\n          -2.4413e-02, -1.5074e-02,  1.2074e-02, -1.3733e-02, -6.7527e-03]],\n\n        [[ 1.6729e-02,  1.2651e-02, -3.2266e-03,  5.7436e-03,  6.0802e-03,\n          -1.1706e-02, -1.0880e-03, -2.2708e-02, -2.1249e-03,  2.0017e-02],\n         [ 1.8121e-02,  4.8907e-03, -1.0081e-02, -6.1574e-04,  1.2938e-02,\n           1.4851e-02, -8.4624e-03, -1.9395e-02, -1.5049e-02,  1.7139e-02]],\n\n        [[ 1.4806e-02,  1.1371e-02, -1.9086e-02, -6.5733e-03, -1.5890e-02,\n          -1.6730e-02, -1.2165e-02,  2.1509e-02,  2.2573e-02,  1.6120e-02],\n         [-2.2404e-02, -2.0851e-02,  2.4423e-02, -5.4396e-03, -4.8023e-03,\n          -2.0765e-03,  1.0316e-02,  2.3718e-02,  4.1326e-03, -7.1266e-03]],\n\n        [[ 1.0079e-02, -1.2974e-02, -1.6336e-02, -1.4981e-03, -1.8119e-02,\n           2.3691e-02, -1.5789e-02,  3.8572e-03,  2.0257e-02, -3.7904e-03],\n         [ 2.2788e-02,  1.9021e-02,  1.8957e-02, -9.9144e-03,  4.5345e-04,\n          -1.2841e-02,  1.7401e-02,  2.0538e-02, -9.0031e-03,  1.5936e-02]],\n\n        [[ 1.9976e-02,  4.2192e-03,  2.2261e-02, -2.3325e-02,  1.9576e-02,\n           6.8814e-03, -4.4260e-03,  1.3201e-02,  2.3671e-02, -1.7471e-02],\n         [ 1.0629e-02,  1.6177e-02, -1.6906e-02,  2.1876e-02, -1.5965e-02,\n           1.9554e-04,  1.6596e-02,  3.4899e-03, -1.4077e-02, -5.4475e-03]],\n\n        [[-5.4925e-03, -8.8315e-03, -5.0056e-04,  1.0417e-02, -8.4554e-03,\n           9.9995e-03, -2.3522e-02, -1.3376e-02,  1.5198e-02,  1.5417e-02],\n         [-1.0769e-02, -1.6438e-02, -3.1249e-03,  1.2005e-02, -2.4015e-02,\n           2.2077e-02, -1.0577e-02, -1.5667e-02,  4.1387e-03, -1.1941e-02]],\n\n        [[ 2.2169e-02, -3.5215e-03,  2.7106e-03, -3.9524e-03,  4.8589e-03,\n          -5.2580e-03, -1.8864e-02,  1.8482e-02, -2.3298e-02, -6.0099e-03],\n         [-2.3882e-02, -1.4934e-02, -1.5605e-02, -1.0167e-02,  2.2153e-02,\n          -2.0234e-03,  1.2528e-02,  8.2131e-03, -2.3108e-02, -3.0261e-03]],\n\n        [[ 6.0575e-03,  4.5792e-03,  2.1425e-02, -2.1618e-02,  7.3604e-03,\n           8.7962e-03, -2.1213e-02, -1.4449e-02,  1.0847e-02,  1.3366e-02],\n         [ 3.3400e-03, -7.7855e-04, -1.2130e-02, -1.3259e-02,  1.9489e-02,\n           2.4412e-02,  8.4163e-03,  1.9678e-02,  1.0027e-02, -7.6808e-05]],\n\n        [[-2.2616e-03,  2.2617e-02,  1.1794e-02,  1.1595e-02, -3.6239e-03,\n           2.3124e-02,  1.1436e-03,  1.0053e-02, -3.1401e-03, -1.0165e-02],\n         [ 2.3589e-02, -2.1445e-02,  9.7864e-04, -1.3726e-02, -3.8573e-03,\n          -1.4564e-02, -3.5690e-03,  1.8914e-02, -1.9162e-02,  7.5970e-03]],\n\n        [[ 7.8683e-03,  9.0697e-03, -1.4430e-02, -6.5544e-03, -1.6213e-02,\n          -4.4152e-03, -2.2159e-02,  9.3741e-03, -2.8528e-03, -1.8972e-02],\n         [-2.2426e-02, -1.8234e-02,  2.2455e-02, -2.0091e-02,  9.8658e-03,\n           8.2163e-03, -2.3127e-02,  1.5181e-02,  1.9331e-02, -7.1760e-03]],\n\n        [[ 7.6667e-04, -2.0767e-02,  1.0272e-02,  2.3456e-02,  1.5610e-02,\n          -9.8074e-03,  2.9033e-03,  1.6286e-02,  1.7053e-02, -1.7334e-03],\n         [ 1.0312e-02, -1.6118e-02,  1.5927e-02,  2.2978e-02,  2.1816e-02,\n          -9.1599e-03,  1.5206e-02, -8.7013e-03, -2.1162e-02, -1.6809e-02]],\n\n        [[ 1.5600e-02, -1.3035e-02, -2.1918e-02,  1.5653e-02,  1.4683e-02,\n          -4.4116e-03, -6.9275e-03,  7.4169e-03, -4.0226e-03, -5.1533e-03],\n         [ 1.4496e-02, -7.2998e-03,  7.1422e-03,  1.6555e-02,  1.8219e-02,\n          -1.8318e-02,  1.5097e-02, -9.5947e-03, -2.8109e-03,  2.2159e-02]],\n\n        [[ 2.2798e-02, -1.1680e-02, -7.7881e-03, -5.7901e-03,  7.0952e-03,\n           1.7469e-02, -1.6715e-03,  5.0612e-03, -1.6632e-02,  3.7010e-03],\n         [ 1.7533e-02, -1.9969e-02,  2.3939e-03,  7.3533e-03,  1.6732e-02,\n          -9.0721e-03,  6.0465e-03, -2.9543e-03,  1.5986e-02, -5.2627e-03]],\n\n        [[-1.6862e-02,  1.7213e-02, -2.0935e-02, -7.0644e-03,  5.4166e-03,\n           1.0690e-02,  1.2877e-02,  1.0657e-02,  3.5678e-03,  1.0486e-02],\n         [ 1.6068e-02,  7.4996e-03, -1.8182e-02,  1.2462e-03, -6.6005e-03,\n          -2.7639e-03, -2.2114e-02,  2.0708e-02,  9.7645e-03,  2.0304e-02]],\n\n        [[-2.2357e-03,  8.3818e-03,  5.6112e-03,  7.3538e-03, -2.6997e-03,\n           3.6718e-03,  1.1064e-02, -6.1956e-03, -1.9240e-02,  1.5710e-02],\n         [-2.4082e-02,  8.4065e-03, -2.3215e-02,  2.7333e-03, -3.7676e-03,\n          -1.8794e-03,  1.5643e-02,  2.6134e-03,  1.8450e-02,  2.4130e-02]],\n\n        [[ 5.9827e-04,  2.1240e-02, -1.4315e-02,  2.0367e-02,  9.3209e-03,\n          -5.1983e-03, -2.1872e-02,  5.1087e-03,  7.0942e-04,  2.1208e-02],\n         [ 1.2637e-02,  1.7531e-02,  2.3070e-02,  1.3629e-02, -2.2977e-02,\n          -7.5883e-03, -1.1402e-02, -1.4385e-02, -1.1084e-02,  2.4179e-02]],\n\n        [[ 8.8893e-03,  1.8131e-02, -1.5686e-02, -4.0256e-03,  6.3748e-03,\n          -1.7289e-02, -2.4013e-02,  1.5646e-02,  7.9728e-03,  1.1929e-02],\n         [-1.4461e-02, -1.7861e-03, -1.2489e-02,  1.3908e-03,  1.7410e-02,\n           2.1015e-02,  9.6873e-03,  2.0398e-04, -3.5249e-03, -2.2899e-05]],\n\n        [[ 8.2214e-03, -1.9051e-02,  2.1334e-02, -1.0412e-02,  2.3950e-02,\n           1.0526e-02,  1.1193e-02, -1.1880e-02,  2.1557e-02,  1.6335e-02],\n         [-1.2124e-02, -9.5520e-03,  9.9066e-04, -1.4985e-02,  5.1778e-04,\n          -1.4089e-02,  1.9448e-02,  2.0573e-02, -1.2062e-02,  1.1401e-02]],\n\n        [[-1.7922e-02, -2.9429e-03, -4.6138e-03,  7.5975e-03,  8.9157e-03,\n          -4.4609e-03, -1.2869e-02, -2.4586e-03, -2.6671e-04,  3.6416e-03],\n         [ 1.7451e-02,  1.2609e-02, -2.2625e-02,  5.9556e-03, -9.2873e-03,\n          -1.3749e-02, -5.8700e-03, -9.5676e-03,  2.3763e-02, -1.5621e-02]],\n\n        [[-1.9779e-02, -1.4102e-02,  2.1648e-02,  3.2660e-03, -4.7247e-04,\n           1.4178e-02, -1.4994e-02,  8.8234e-03,  2.2731e-02,  3.7337e-03],\n         [-1.7231e-02,  1.7698e-02, -4.4248e-03, -3.5129e-03,  2.5176e-03,\n          -2.4453e-02, -5.2605e-03, -1.9537e-02,  1.8924e-03,  1.5583e-02]],\n\n        [[ 1.3181e-02, -7.7026e-03,  3.6407e-04,  5.4422e-03,  9.0285e-03,\n           1.2387e-02,  1.5308e-02, -6.6163e-03,  1.7893e-02, -1.2482e-02],\n         [ 1.1071e-02, -2.4055e-02, -3.6090e-03, -2.0959e-02,  4.6624e-04,\n           2.3497e-02, -2.3513e-02, -1.0300e-02, -1.6401e-02, -2.1180e-02]],\n\n        [[ 1.5106e-02, -1.7076e-02, -1.4820e-02,  7.9833e-03, -5.1449e-03,\n          -4.3787e-03, -2.0848e-02,  1.1332e-02, -2.4025e-02,  1.6297e-02],\n         [ 3.1173e-03,  1.6292e-02,  9.3933e-03,  1.4716e-02,  2.2642e-02,\n          -7.1629e-03, -1.4350e-02,  3.0821e-03,  1.9230e-02, -1.5804e-02]],\n\n        [[ 1.6898e-02, -2.2506e-02, -1.1940e-02, -1.5854e-02, -1.7106e-02,\n          -1.2044e-02, -7.0739e-03,  7.6523e-03, -8.7102e-03,  1.2554e-02],\n         [ 6.0286e-03,  6.3269e-03,  9.2247e-03, -8.4388e-03,  1.1420e-03,\n           1.8091e-02, -2.1915e-02,  1.5925e-02,  1.1657e-02,  8.0931e-03]],\n\n        [[ 1.1533e-02,  5.9734e-03,  2.9450e-04, -1.7577e-02,  1.5002e-02,\n          -1.2972e-02,  2.0400e-02,  1.5129e-02, -8.9028e-03, -6.3789e-03],\n         [-9.3579e-03, -1.7176e-02,  8.2823e-03,  5.5107e-03,  4.5489e-03,\n           3.2598e-03, -1.8110e-02,  2.2992e-02, -4.6187e-03, -2.2834e-02]],\n\n        [[ 1.6067e-02,  2.4298e-02, -2.1344e-02,  1.8308e-02, -1.4496e-02,\n          -1.4862e-02,  1.0865e-02, -1.6927e-02,  2.6551e-03, -4.1077e-03],\n         [ 7.2727e-03, -2.2834e-02,  2.2822e-02, -1.2410e-02,  6.3872e-03,\n           1.8101e-02, -1.2003e-02, -1.9638e-02, -2.4067e-02, -8.8180e-03]],\n\n        [[-1.3515e-02, -7.9773e-03, -2.2612e-02, -5.4089e-03,  5.2602e-03,\n          -1.4357e-02, -1.1800e-02, -1.5428e-02,  8.8720e-04,  1.7980e-02],\n         [-1.2507e-02, -2.2804e-02,  6.8571e-03, -1.8692e-02, -1.0103e-02,\n          -2.1111e-02,  2.1070e-02,  1.5547e-02,  3.5121e-03, -1.5343e-02]],\n\n        [[ 1.2956e-03,  1.8458e-02, -4.9509e-04,  2.1760e-02, -7.2379e-03,\n          -5.5330e-03,  1.1913e-02, -2.3110e-02, -1.4235e-02,  2.7894e-03],\n         [-1.8381e-02,  5.9329e-03,  1.8273e-02,  7.3828e-03, -1.7712e-02,\n           1.2865e-02,  1.3241e-02,  2.3060e-02, -1.8057e-02,  2.3403e-02]],\n\n        [[-3.2264e-03, -1.1741e-02,  5.9315e-03,  9.6746e-03, -1.3051e-02,\n           1.9445e-02,  1.8261e-02, -1.6952e-03, -2.3256e-02,  1.3023e-02],\n         [ 1.5424e-02, -1.4423e-02, -2.1184e-02,  1.3940e-02,  1.3614e-03,\n           1.7566e-02,  2.4031e-03, -1.3249e-02,  1.4208e-03, -4.2509e-03]],\n\n        [[-3.1815e-03, -1.5779e-02, -6.8724e-03, -1.3205e-02,  1.8916e-02,\n           6.1220e-03, -2.3946e-02,  1.6629e-02, -9.1832e-03,  1.5688e-02],\n         [ 9.6433e-03,  1.7712e-02, -2.2973e-02,  7.5181e-04,  4.8992e-03,\n          -1.3291e-03, -1.9328e-02, -1.7989e-02,  2.3424e-02, -6.5270e-03]]],\n       grad_fn=<EmbeddingBackward0>)"
     },
     "execution_count": 46,
     "metadata": {},
     "output_type": "execute_result"
    }
   ],
   "source": [
    "embed_res = embedding(x)\n",
    "print(embed_res.shape)\n",
    "embed_res"
   ],
   "metadata": {
    "collapsed": false,
    "pycharm": {
     "name": "#%%\n"
    }
   }
  },
  {
   "cell_type": "code",
   "execution_count": null,
   "outputs": [],
   "source": [],
   "metadata": {
    "collapsed": false,
    "pycharm": {
     "name": "#%%\n"
    }
   }
  }
 ],
 "metadata": {
  "kernelspec": {
   "display_name": "Python 3",
   "language": "python",
   "name": "python3"
  },
  "language_info": {
   "codemirror_mode": {
    "name": "ipython",
    "version": 2
   },
   "file_extension": ".py",
   "mimetype": "text/x-python",
   "name": "python",
   "nbconvert_exporter": "python",
   "pygments_lexer": "ipython2",
   "version": "2.7.6"
  }
 },
 "nbformat": 4,
 "nbformat_minor": 0
}